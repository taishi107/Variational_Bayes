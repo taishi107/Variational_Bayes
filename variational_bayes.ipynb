{
 "cells": [
  {
   "cell_type": "code",
   "execution_count": 1,
   "metadata": {
    "collapsed": true
   },
   "outputs": [],
   "source": [
    "%matplotlib inline\n",
    "import numpy as np\n",
    "from numpy import linalg as la\n",
    "#ディガンマ関数のライブラリ\n",
    "from scipy.special import digamma\n",
    "from scipy import stats\n",
    "from scipy.stats import multivariate_normal\n",
    "import math\n",
    "import matplotlib.pyplot as plt\n"
   ]
  },
  {
   "cell_type": "code",
   "execution_count": 2,
   "metadata": {
    "collapsed": true
   },
   "outputs": [],
   "source": [
    "def dataset(mu,sigma,pi):\n",
    "    for i in range(k):\n",
    "        samplesB = np.random.multivariate_normal(mu[i],sigma[i],int(N*pi[i])).T\n",
    "        if(i>=1):\n",
    "            samplesA = np.column_stack((samplesA,samplesB))\n",
    "        else:\n",
    "            samplesA = samplesB\n",
    "    sample = np.c_[samplesA[0],samplesA[1]]\n",
    "    \n",
    "    plt.scatter(sample[:,0],sample[:,1],color='g',marker='+',alpha=0.8)\n",
    "    return sample"
   ]
  },
  {
   "cell_type": "code",
   "execution_count": 3,
   "metadata": {
    "scrolled": false
   },
   "outputs": [
    {
     "data": {
      "text/plain": [
       "<matplotlib.collections.PathCollection at 0x1e5976ffb70>"
      ]
     },
     "execution_count": 3,
     "metadata": {},
     "output_type": "execute_result"
    },
    {
     "data": {
      "image/png": "[encoded data removed]",
      "text/plain": [
       "<matplotlib.figure.Figure at 0x1e5976ffb38>"
      ]
     },
     "metadata": {},
     "output_type": "display_data"
    }
   ],
   "source": [
    "#初期設定\n",
    "N = 1000 #データ数\n",
    "#mu = [[-3,-3],[2,2]]\n",
    "mu = [[0,1],[-1,-1],[1,-1],[3,1]]\n",
    "sigma = [[[0.2,0.],[0.,0.2]],[[0.1,0.],[0.,0.1]],[[0.1,0.],[0.,0.1]],[[0.2,0.],[0.,0.2]]]\n",
    "pi=[0.3,0.5,0.2,]\n",
    "k=3 #データ群の個数\n",
    "K=6 #分布の個数\n",
    "D=2 #次元\n",
    "samples = dataset(mu,sigma,pi)\n",
    "plt.scatter(samples[:,0],samples[:,1],color='g',marker='+',alpha=0.2)"
   ]
  },
  {
   "cell_type": "code",
   "execution_count": 4,
   "metadata": {
    "collapsed": true
   },
   "outputs": [],
   "source": [
    "def make_gauss_model(mu,sigma):\n",
    "    gauss = []\n",
    "    for i in range(K):\n",
    "        gauss.append(multivariate_normal(mean=mu[i],cov=sigma[i]))\n",
    "        \n",
    "    return gauss"
   ]
  },
  {
   "cell_type": "code",
   "execution_count": 5,
   "metadata": {
    "collapsed": true
   },
   "outputs": [],
   "source": [
    "def draw(gauss):\n",
    "    plt.figure(figsize=(5, 5))\n",
    "    # ガウス分布を等高線で描画\n",
    "    x,y = np.meshgrid(np.linspace(min(samples[:,0]),max(samples[:,0]),1000),np.linspace(min(samples[:,1]),max(samples[:,1]),1000))\n",
    "    pos = np.dstack((x,y))\n",
    "    for i in range(K):\n",
    "        z = gauss[i].pdf(pos)\n",
    "        plt.contour(x, y, z,colors=clus[i],alpha=0.8)\n",
    "    #plt.xlim(-5.1, 5.1)\n",
    "    #plt.ylim(-5.1, 5.1)\n",
    "    plt.scatter(samples[:,0],samples[:,1],color=\"g\",marker='+',alpha=0.3)"
   ]
  },
  {
   "cell_type": "code",
   "execution_count": 6,
   "metadata": {
    "collapsed": true
   },
   "outputs": [],
   "source": [
    "def draw2(gauss,ganma):\n",
    "    plt.figure(figsize=(5, 5))\n",
    "    # ガウス分布を等高線で描画\n",
    "    x,y = np.meshgrid(np.linspace(min(samples[:,0]),max(samples[:,0]),1000),np.linspace(min(samples[:,1]),max(samples[:,1]),1000))\n",
    "    pos = np.dstack((x,y))\n",
    "    for i in range(K):\n",
    "        z = gauss[i].pdf(pos)\n",
    "        if pi[i] > 0.01: \n",
    "            plt.contour(x, y, z,colors=clus[i],alpha=0.8)\n",
    "    for i in range(N):\n",
    "        #plt.xlim(min(samples[:,0])+0.1,max(samples[:,0])+0.1)\n",
    "        #plt.ylim(min(samples[:,1])+0.1,max(samples[:,1])+0.1)\n",
    "        plt.scatter(samples[i][0],samples[i][1],color=\"g\",marker='+',alpha=0.3)"
   ]
  },
  {
   "cell_type": "code",
   "execution_count": null,
   "metadata": {
    "collapsed": true
   },
   "outputs": [],
   "source": []
  },
  {
   "cell_type": "code",
   "execution_count": 7,
   "metadata": {},
   "outputs": [
    {
     "ename": "AttributeError",
     "evalue": "'numpy.ndarray' object has no attribute 'pdf'",
     "output_type": "error",
     "traceback": [
      "\u001b[1;31m---------------------------------------------------------------------------\u001b[0m",
      "\u001b[1;31mAttributeError\u001b[0m                            Traceback (most recent call last)",
      "\u001b[1;32m<ipython-input-7-3ceaf28917bd>\u001b[0m in \u001b[0;36m<module>\u001b[1;34m()\u001b[0m\n\u001b[0;32m      9\u001b[0m \u001b[0mclus\u001b[0m \u001b[1;33m=\u001b[0m \u001b[1;33m[\u001b[0m\u001b[1;34m\"r\"\u001b[0m\u001b[1;33m,\u001b[0m\u001b[1;34m\"b\"\u001b[0m\u001b[1;33m,\u001b[0m\u001b[1;34m\"c\"\u001b[0m\u001b[1;33m,\u001b[0m\u001b[1;34m\"m\"\u001b[0m\u001b[1;33m,\u001b[0m\u001b[1;34m\"y\"\u001b[0m\u001b[1;33m,\u001b[0m\u001b[1;34m\"g\"\u001b[0m\u001b[1;33m,\u001b[0m\u001b[1;34m\"k\"\u001b[0m\u001b[1;33m,\u001b[0m \u001b[1;34m'#f781bf'\u001b[0m\u001b[1;33m]\u001b[0m\u001b[1;33m\u001b[0m\u001b[0m\n\u001b[0;32m     10\u001b[0m \u001b[0mgauss\u001b[0m \u001b[1;33m=\u001b[0m \u001b[0mmake_gauss_model\u001b[0m\u001b[1;33m(\u001b[0m\u001b[0mg_mean\u001b[0m\u001b[1;33m,\u001b[0m\u001b[0mg_sigma\u001b[0m\u001b[1;33m)\u001b[0m\u001b[1;33m\u001b[0m\u001b[0m\n\u001b[1;32m---> 11\u001b[1;33m \u001b[0mdraw\u001b[0m\u001b[1;33m(\u001b[0m\u001b[0mgauss\u001b[0m\u001b[1;33m)\u001b[0m\u001b[1;33m\u001b[0m\u001b[0m\n\u001b[0m",
      "\u001b[1;32m<ipython-input-5-1146be0ab23b>\u001b[0m in \u001b[0;36mdraw\u001b[1;34m(gauss)\u001b[0m\n\u001b[0;32m      5\u001b[0m     \u001b[0mpos\u001b[0m \u001b[1;33m=\u001b[0m \u001b[0mnp\u001b[0m\u001b[1;33m.\u001b[0m\u001b[0mdstack\u001b[0m\u001b[1;33m(\u001b[0m\u001b[1;33m(\u001b[0m\u001b[0mx\u001b[0m\u001b[1;33m,\u001b[0m\u001b[0my\u001b[0m\u001b[1;33m)\u001b[0m\u001b[1;33m)\u001b[0m\u001b[1;33m\u001b[0m\u001b[0m\n\u001b[0;32m      6\u001b[0m     \u001b[1;32mfor\u001b[0m \u001b[0mi\u001b[0m \u001b[1;32min\u001b[0m \u001b[0mrange\u001b[0m\u001b[1;33m(\u001b[0m\u001b[0mK\u001b[0m\u001b[1;33m)\u001b[0m\u001b[1;33m:\u001b[0m\u001b[1;33m\u001b[0m\u001b[0m\n\u001b[1;32m----> 7\u001b[1;33m         \u001b[0mz\u001b[0m \u001b[1;33m=\u001b[0m \u001b[0mgauss\u001b[0m\u001b[1;33m[\u001b[0m\u001b[0mi\u001b[0m\u001b[1;33m]\u001b[0m\u001b[1;33m.\u001b[0m\u001b[0mpdf\u001b[0m\u001b[1;33m(\u001b[0m\u001b[0mpos\u001b[0m\u001b[1;33m)\u001b[0m\u001b[1;33m\u001b[0m\u001b[0m\n\u001b[0m\u001b[0;32m      8\u001b[0m         \u001b[0mplt\u001b[0m\u001b[1;33m.\u001b[0m\u001b[0mcontour\u001b[0m\u001b[1;33m(\u001b[0m\u001b[0mx\u001b[0m\u001b[1;33m,\u001b[0m \u001b[0my\u001b[0m\u001b[1;33m,\u001b[0m \u001b[0mz\u001b[0m\u001b[1;33m,\u001b[0m\u001b[0mcolors\u001b[0m\u001b[1;33m=\u001b[0m\u001b[0mclus\u001b[0m\u001b[1;33m[\u001b[0m\u001b[0mi\u001b[0m\u001b[1;33m]\u001b[0m\u001b[1;33m,\u001b[0m\u001b[0malpha\u001b[0m\u001b[1;33m=\u001b[0m\u001b[1;36m0.8\u001b[0m\u001b[1;33m)\u001b[0m\u001b[1;33m\u001b[0m\u001b[0m\n\u001b[0;32m      9\u001b[0m     \u001b[1;31m#plt.xlim(-5.1, 5.1)\u001b[0m\u001b[1;33m\u001b[0m\u001b[1;33m\u001b[0m\u001b[0m\n",
      "\u001b[1;31mAttributeError\u001b[0m: 'numpy.ndarray' object has no attribute 'pdf'"
     ]
    },
    {
     "data": {
      "text/plain": [
       "<matplotlib.figure.Figure at 0x1e5976ff5f8>"
      ]
     },
     "metadata": {},
     "output_type": "display_data"
    }
   ],
   "source": [
    "g_mean = [[-1.0574489772985471, -1.2323082405966455], [1.1194494086949569, -1.125715987311797], [-0.35151806160409088, 0.88568695657557817], [-0.94164308644380812, -0.73865348733702973], [0.33074448223827357, 1.1670779444293959], [0.62433751811043658, -0.71019232198881976]]\n",
    "g_sigma = [[[0.1,0],[0,0.1]],\n",
    "        [[0.1,0],[0,0.1]],\n",
    "          [[0.1,0],[0,0.1]],\n",
    "          [[0.1,0],[0,0.1]],\n",
    "          [[0.1,0],[0,0.1]],\n",
    "          [[0.1,0],[0,0.1]]]\n",
    "pi = [1.0/K for i in range(K)]\n",
    "clus = [\"r\",\"b\",\"c\",\"m\",\"y\",\"g\",\"k\", '#f781bf']\n",
    "gauss = make_gauss_model(g_mean,g_sigma)\n",
    "draw(gauss)"
   ]
  },
  {
   "cell_type": "code",
   "execution_count": null,
   "metadata": {
    "collapsed": true
   },
   "outputs": [],
   "source": [
    "def ganma_cal():\n",
    "    ganma = []\n",
    "    for i in range(N):\n",
    "        sum_p = 0.0\n",
    "        p=[]\n",
    "        for j in range(K):\n",
    "            sum_p += pi[j]*gauss[j].pdf([samples[i][0],samples[i][1]])\n",
    "        for j in range(K):\n",
    "            p.append(pi[j]*gauss[j].pdf([samples[i][0],samples[i][1]])/sum_p)\n",
    "        ganma.append(p)\n",
    "    return ganma"
   ]
  },
  {
   "cell_type": "code",
   "execution_count": null,
   "metadata": {},
   "outputs": [],
   "source": [
    "ganma = ganma_cal()\n",
    "draw2(gauss,ganma)"
   ]
  },
  {
   "cell_type": "code",
   "execution_count": null,
   "metadata": {
    "collapsed": true
   },
   "outputs": [],
   "source": [
    "def cal(ganma):\n",
    "    N_k = []\n",
    "    for k in range(K):\n",
    "        sum_r = 0.0\n",
    "        for n in range(N):\n",
    "             sum_r += ganma[n][k]\n",
    "        N_k.append(sum_r)\n",
    "    return N_k"
   ]
  },
  {
   "cell_type": "code",
   "execution_count": null,
   "metadata": {},
   "outputs": [],
   "source": [
    "N_k = []\n",
    "N_k = cal(ganma)\n",
    "print(N_k)"
   ]
  },
  {
   "cell_type": "code",
   "execution_count": null,
   "metadata": {
    "collapsed": true
   },
   "outputs": [],
   "source": [
    "mu = np.zeros((K,D))\n",
    "S = np.zeros((K,D,D))"
   ]
  },
  {
   "cell_type": "code",
   "execution_count": null,
   "metadata": {
    "collapsed": true
   },
   "outputs": [],
   "source": [
    "def cal_3(N_k,ganma):\n",
    "    #行列の初期化\n",
    "    #mu = np.zeros((K,D))\n",
    "    #S = np.zeros((K,D,D))\n",
    "    for k in range(K):\n",
    "        sum_r = 0.0\n",
    "        sum_x = 0.0\n",
    "        sum_y = 0.0\n",
    "        for n in range(N):\n",
    "            sum_r += ganma[n][k]*samples[n]\n",
    "        mu[k] = sum_r/N_k[k]\n",
    "        sigma = []\n",
    "        sigma = [samples[j]-mu[k] for j in range(N)]\n",
    "        tmp = np.zeros((1,D,D))\n",
    "        for n in range(N):\n",
    "            tmp += (ganma[n][k]*sigma[n])*sigma[n][:, np.newaxis]\n",
    "        tmp2 = tmp/N_k[k]\n",
    "        S[k] = tmp2\n",
    "    return mu,S"
   ]
  },
  {
   "cell_type": "code",
   "execution_count": null,
   "metadata": {},
   "outputs": [],
   "source": [
    "mu,S = cal_3(N_k,ganma)\n",
    "gauss = make_gauss_model(mu,S)\n",
    "draw2(gauss,ganma)"
   ]
  },
  {
   "cell_type": "code",
   "execution_count": null,
   "metadata": {
    "collapsed": true
   },
   "outputs": [],
   "source": [
    "def M_step(N_k,mu,S):\n",
    "    alpha_0 = 0.001\n",
    "    beta_0 = 0.001\n",
    "    nu_0 = 1.0\n",
    "    m_0 = np.zeros((K,D))\n",
    "    m = np.zeros((K,D))\n",
    "    W_0 = np.identity(2)\n",
    "    alpha=[]\n",
    "    beta=[]\n",
    "    nu=[]\n",
    "    W = np.zeros((K,D,D))\n",
    "    for k in range(K):\n",
    "        alpha.append(alpha_0 + N_k[k])\n",
    "        beta.append(beta_0 + N_k[k])\n",
    "        nu.append(nu_0 + N_k[k])\n",
    "        m[k] = (beta_0*m_0[k] + N_k[k]*mu[k])/beta[k]\n",
    "    sigma = []\n",
    "    sigma = [mu[j]-m_0[j] for j in range(K)]\n",
    "    for k in range(K):\n",
    "        tmp = beta_0*N_k[k]*sigma[k]*sigma[k][:, np.newaxis]/(beta_0 + N_k[k])\n",
    "        tmp2 = la.inv(W_0)+N_k[k]*S[k]+tmp\n",
    "        W[k] = la.inv(tmp2)\n",
    "    return alpha,beta,nu,m,W"
   ]
  },
  {
   "cell_type": "code",
   "execution_count": null,
   "metadata": {
    "collapsed": true
   },
   "outputs": [],
   "source": [
    "def E_step(alpha,beta,nu,m,W):\n",
    "    E_ln_A = []\n",
    "    E_ln_pi = []\n",
    "    E_mu_A = []\n",
    "    r = []\n",
    "    for k in range(K):\n",
    "        tmp = sum([digamma((nu[k]+1-i)/2)for i in range(1,D+1)])\n",
    "        E = tmp +D*math.log(2)+math.log(la.norm(W[k]))\n",
    "        E_ln_A.append(E)\n",
    "        \n",
    "        E = digamma(alpha[k])-digamma(sum(alpha))\n",
    "        E_ln_pi.append(E)\n",
    "    for n in range(N):\n",
    "        tmp = [(D/beta[k])+nu[k]*np.dot((samples[n] - m[k]),np.dot(W[k],(samples[n] - m[k]).T)) for k in range(K)]\n",
    "        E_mu_A.append(tmp)\n",
    "    for n in range(N):\n",
    "        tmp = [np.exp(np.array(E_ln_pi[k]) + np.array(E_ln_A[k])/2 - D*math.log(2*math.pi)/2-np.array(E_mu_A[n][k])/2) for k in range(K)]\n",
    "        for k in range(K):\n",
    "            if tmp[k] < 1e-10:\n",
    "                tmp[k] = 1e-10\n",
    "        tmp2 = np.array(tmp)/sum(tmp)\n",
    "        \n",
    "        r.append(tmp2)\n",
    "    return E_ln_A,E_ln_pi,E_mu_A,r"
   ]
  },
  {
   "cell_type": "code",
   "execution_count": null,
   "metadata": {},
   "outputs": [],
   "source": [
    "for i in range(20):\n",
    "    alpha,beta,nu,m,W = M_step(N_k,mu,S)\n",
    "    E_ln_A,E_ln_pi,E_mu_A,ganma = E_step(alpha,beta,nu,m,W)\n",
    "    pi = np.exp(E_ln_pi)\n",
    "    N_k = cal(ganma)\n",
    "    mu,S = cal_3(N_k,ganma)\n",
    "    gauss = make_gauss_model(mu,S)\n",
    "    draw2(gauss,ganma)\n",
    "    #['r','g','b','y',\"c\", \"m\"]\n",
    "    plt.show()\n",
    "    print('red,green,blue,yellow,cyan,magenta')\n",
    "    print(pi)"
   ]
  }
 ],
 "metadata": {
  "kernelspec": {
   "display_name": "Python 3",
   "language": "python",
   "name": "python3"
  },
  "language_info": {
   "codemirror_mode": {
    "name": "ipython",
    "version": 3
   },
   "file_extension": ".py",
   "mimetype": "text/x-python",
   "name": "python",
   "nbconvert_exporter": "python",
   "pygments_lexer": "ipython3",
   "version": "3.6.1"
  }
 },
 "nbformat": 4,
 "nbformat_minor": 2
}
